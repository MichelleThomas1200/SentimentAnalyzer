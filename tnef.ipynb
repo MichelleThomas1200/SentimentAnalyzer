{
 "cells": [
  {
   "cell_type": "code",
   "execution_count": 12,
   "metadata": {},
   "outputs": [],
   "source": [
    "#importing libraries\n",
    "\n",
    "import numpy as np\n",
    "import pandas as pd\n",
    "import matplotlib.pyplot as plt\n",
    "import nltk\n",
    "import re\n",
    "import tensorflow as tf\n",
    "from tensorflow import keras\n",
    "from sklearn.metrics import accuracy_score"
   ]
  },
  {
   "cell_type": "code",
   "execution_count": 13,
   "metadata": {},
   "outputs": [],
   "source": [
    "train_data = pd.read_csv('IMDB_trainData.csv')\n",
    "test_data = pd.read_csv('IMDB_testData.csv')\n",
    "\n",
    "train_sentiments = []\n",
    "train_reviews = []\n",
    "test_sentiments = []\n",
    "test_reviews = []\n",
    "\n",
    "train_reviews = train_data[['review']]\n",
    "train_sentiments = train_data[['sentiment']]\n",
    "test_reviews = test_data[['review']]\n",
    "test_sentiments = test_data[['sentiment']]\n"
   ]
  },
  {
   "cell_type": "code",
   "execution_count": 14,
   "metadata": {},
   "outputs": [],
   "source": [
    "#preprocessing / cleaning\n",
    "\n",
    "non_word = re.compile(r'[\\W]')\n",
    "non_ascii = re.compile(r'[^a-z0-9\\s]')\n",
    "\n",
    "def normalize_texts(text):\n",
    "    normalized_text = []\n",
    "    for i in range (0,len(text)):\n",
    "        item=text.loc[i]\n",
    "        lowercase=item['review'].lower()\n",
    "        punctuation_deletes = non_word.sub(r' ', lowercase)\n",
    "        non_ascii_deletes = non_ascii.sub(r'',punctuation_deletes )\n",
    "        normalized_text.append(non_ascii_deletes)\n",
    "    return normalized_text\n",
    "\n",
    "train_reviews = normalize_texts(train_reviews)\n",
    "\n",
    "test_reviews = normalize_texts(test_reviews)"
   ]
  },
  {
   "cell_type": "code",
   "execution_count": 15,
   "metadata": {},
   "outputs": [],
   "source": [
    "from sklearn.feature_extraction.text import CountVectorizer\n",
    "\n",
    "cv = CountVectorizer(binary=True)\n",
    "cv.fit(train_reviews) #tokenizes training data\n",
    "\n",
    "\n",
    "X = cv.transform(train_reviews)\n",
    "\n",
    "Y = cv.transform(test_reviews)\n"
   ]
  },
  {
   "cell_type": "code",
   "execution_count": 16,
   "metadata": {},
   "outputs": [
    {
     "name": "stderr",
     "output_type": "stream",
     "text": [
      "c:\\users\\micht\\appdata\\local\\programs\\python\\python36\\lib\\site-packages\\sklearn\\utils\\validation.py:63: DataConversionWarning: A column-vector y was passed when a 1d array was expected. Please change the shape of y to (n_samples, ), for example using ravel().\n",
      "  return f(*args, **kwargs)\n"
     ]
    },
    {
     "name": "stdout",
     "output_type": "stream",
     "text": [
      "\n",
      "Type of Classification model used : Logistic Regression\n",
      "Purpose : Predicting whether Movie review is Positive or Negative\n",
      "\n",
      "Accuracy on Training Data = 99.2575 %\n",
      "\n",
      "Accuracy on Testing Data = 89.47 %\n",
      "\n"
     ]
    },
    {
     "name": "stderr",
     "output_type": "stream",
     "text": [
      "c:\\users\\micht\\appdata\\local\\programs\\python\\python36\\lib\\site-packages\\sklearn\\linear_model\\_logistic.py:765: ConvergenceWarning: lbfgs failed to converge (status=1):\n",
      "STOP: TOTAL NO. of ITERATIONS REACHED LIMIT.\n",
      "\n",
      "Increase the number of iterations (max_iter) or scale the data as shown in:\n",
      "    https://scikit-learn.org/stable/modules/preprocessing.html\n",
      "Please also refer to the documentation for alternative solver options:\n",
      "    https://scikit-learn.org/stable/modules/linear_model.html#logistic-regression\n",
      "  extra_warning_msg=_LOGISTIC_SOLVER_CONVERGENCE_MSG)\n"
     ]
    }
   ],
   "source": [
    "from sklearn.linear_model import LogisticRegression\n",
    "from sklearn.metrics import accuracy_score\n",
    "\n",
    "\n",
    "X_train = X\n",
    "y_train = train_sentiments\n",
    "X_test = Y \n",
    "y_test = test_sentiments\n",
    "\n",
    "\n",
    "model = LogisticRegression(C=0.75)\n",
    "model.fit(X_train, y_train)\n",
    "\n",
    "print(\"\\nType of Classification model used : Logistic Regression\")\n",
    "print(\"Purpose : Predicting whether Movie review is Positive or Negative\")\n",
    "print(\"\\nAccuracy on Training Data =\",(float(accuracy_score(y_train, model.predict(X_train)))*100),\"%\\n\")\n",
    "print(\"Accuracy on Testing Data =\",(float(accuracy_score(y_test, model.predict(X_test)))*100),\"%\\n\")"
   ]
  },
  {
   "cell_type": "code",
   "execution_count": 19,
   "metadata": {},
   "outputs": [
    {
     "name": "stdout",
     "output_type": "stream",
     "text": [
      " Enter keyword : \n",
      "i\n",
      "Positive sentiment\n"
     ]
    }
   ],
   "source": [
    "print(\" Enter keyword : \")\n",
    "my_str=input()\n",
    "\n",
    "lst=[]\n",
    "lst = my_str.split(' ')\n",
    "str_array = np.array(lst)\n",
    "\n",
    "###print(type(str_array))\n",
    "\n",
    "\n",
    "my_review = []\n",
    "lowercase=my_str.lower()#to_string().lower()\n",
    "punctuation_deletes = non_word.sub(r' ', lowercase)\n",
    "non_ascii_deletes = non_ascii.sub(r'',punctuation_deletes )\n",
    "my_review.append(non_ascii_deletes)\n",
    "\n",
    "\n",
    "\n",
    "Z=cv.transform(my_review)\n",
    "temp = model.predict_proba(Z)\n",
    "\n",
    "neg = temp[[0]][0][0]\n",
    "pos = temp[[0]][0][1]\n",
    "\n",
    "if(neg>pos):\n",
    "    print(\"Negative sentiment\")\n",
    "elif(pos>neg):\n",
    "    print(\"Positive sentiment\")\n",
    "else:\n",
    "    print(\"Neutral Sentiment\")\n",
    "\n"
   ]
  },
  {
   "cell_type": "code",
   "execution_count": null,
   "metadata": {},
   "outputs": [],
   "source": []
  }
 ],
 "metadata": {
  "kernelspec": {
   "display_name": "Python 3",
   "language": "python",
   "name": "python3"
  },
  "language_info": {
   "codemirror_mode": {
    "name": "ipython",
    "version": 3
   },
   "file_extension": ".py",
   "mimetype": "text/x-python",
   "name": "python",
   "nbconvert_exporter": "python",
   "pygments_lexer": "ipython3",
   "version": "3.6.8"
  }
 },
 "nbformat": 4,
 "nbformat_minor": 4
}
